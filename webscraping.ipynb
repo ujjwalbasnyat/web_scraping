{
  "nbformat": 4,
  "nbformat_minor": 0,
  "metadata": {
    "colab": {
      "provenance": [],
      "authorship_tag": "ABX9TyM11MEXdTgYxtRWl6EGaqmE",
      "include_colab_link": true
    },
    "kernelspec": {
      "name": "python3",
      "display_name": "Python 3"
    },
    "language_info": {
      "name": "python"
    }
  },
  "cells": [
    {
      "cell_type": "markdown",
      "metadata": {
        "id": "view-in-github",
        "colab_type": "text"
      },
      "source": [
        "<a href=\"https://colab.research.google.com/github/ujjwalbasnyat/web_scraping/blob/master/webscraping.ipynb\" target=\"_parent\"><img src=\"https://colab.research.google.com/assets/colab-badge.svg\" alt=\"Open In Colab\"/></a>"
      ]
    },
    {
      "cell_type": "code",
      "execution_count": 1,
      "metadata": {
        "id": "0uO1_A2o0zwx"
      },
      "outputs": [],
      "source": [
        "from bs4 import BeautifulSoup\n",
        "import requests"
      ]
    },
    {
      "cell_type": "code",
      "source": [
        "url = 'https://companykhata.com/'"
      ],
      "metadata": {
        "id": "miJMbyFq0_IL"
      },
      "execution_count": 2,
      "outputs": []
    },
    {
      "cell_type": "code",
      "source": [
        "page = requests.get(url)\n",
        "soup = BeautifulSoup(page.content, 'html.parser')"
      ],
      "metadata": {
        "id": "AKKz5Wqm1FDB"
      },
      "execution_count": 3,
      "outputs": []
    },
    {
      "cell_type": "code",
      "source": [
        "if page.status_code ==200:\n",
        "  print(\"Page fetched successfully!\")\n",
        "else:\n",
        "  print(f\"Failed to fetch page: {page.status_code}\")"
      ],
      "metadata": {
        "colab": {
          "base_uri": "https://localhost:8080/"
        },
        "id": "wMJLM9sx1NYr",
        "outputId": "4ce18f20-70a1-4530-91e2-4e808bd549c8"
      },
      "execution_count": 4,
      "outputs": [
        {
          "output_type": "stream",
          "name": "stdout",
          "text": [
            "Page fetched successfully!\n"
          ]
        }
      ]
    },
    {
      "cell_type": "code",
      "source": [
        "import bs4\n",
        "div_elements = soup.find(\"div\", {\"data-id\": \"200e9b7\"})\n",
        "for div in div_elements:\n",
        "  if isinstance(div, bs4.element.Tag):\n",
        "    p = div.find(\"p\")\n",
        "    print(p.text)\n",
        "    print(div.text)"
      ],
      "metadata": {
        "colab": {
          "base_uri": "https://localhost:8080/"
        },
        "id": "tQGwg0Hw3Xkb",
        "outputId": "92d39e3e-21fb-4f1a-8637-777956bd5a61"
      },
      "execution_count": 29,
      "outputs": [
        {
          "output_type": "stream",
          "name": "stdout",
          "text": [
            "\n",
            "\t\t\t\t\t\tEnjoy our fast and easy service along with future assistance\t\t\t\t\t\n",
            "\n",
            "\n",
            "\n",
            "\n",
            "\n",
            "\n",
            "\n",
            "\n",
            "Business \n",
            "\n",
            "\n",
            "\n",
            "\n",
            "\t\t\t\t\t\t\tCompany Registration\t\t\t\t\t\t\n",
            "\n",
            "\n",
            "\t\t\t\t\t\tEnjoy our fast and easy service along with future assistance\t\t\t\t\t\n",
            "\n",
            "\n",
            "\n",
            "\n",
            "\n",
            "\n",
            "\n",
            "\n",
            "\n",
            " \n",
            "Learn More\n",
            "\n",
            "\n",
            "\n",
            "\n",
            "\n",
            "\n",
            "\n",
            "\n",
            "\n",
            "\n",
            "\n",
            "\n",
            "\n",
            " \n",
            "\n",
            "\n",
            "\n",
            "\n",
            "\t\t\t\t\t\t\tTrademark Registration\t\t\t\t\t\t\n",
            "\n",
            "\n",
            "\t\t\t\t\t\tOur expert-led trademark service is online and hassle-free\t\t\t\t\t\n",
            "\n",
            "\n",
            "\n",
            "\n",
            "\n",
            "\n",
            "\n",
            "\n",
            "\n",
            " \n",
            "Learn More\n",
            "\n",
            "\n",
            "\n",
            "\n",
            "\n",
            "\n",
            "\n",
            "\n",
            "\n",
            "\n",
            "\n",
            "\n",
            "\n",
            " \n",
            "\n",
            "\n",
            "\n",
            "\n",
            "\t\t\t\t\t\t\tAccounting & Taxation\t\t\t\t\t\t\n",
            "\n",
            "\n",
            "\t\t\t\t\t\tManagement Information system on Accounting & Taxation\t\t\t\t\t\n",
            "\n",
            "\n",
            "\n",
            "\n",
            "\n",
            "\n",
            "\n",
            "\n",
            "\n",
            " \n",
            "Learn More\n",
            "\n",
            "\n",
            "\n",
            "\n",
            "\n",
            "\n",
            "\n"
          ]
        }
      ]
    }
  ]
}